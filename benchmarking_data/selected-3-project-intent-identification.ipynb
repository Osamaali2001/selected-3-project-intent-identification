{
 "cells": [
  {
   "cell_type": "code",
   "execution_count": 1,
   "id": "0c519fd6",
   "metadata": {
    "_cell_guid": "b1076dfc-b9ad-4769-8c92-a6c4dae69d19",
    "_uuid": "8f2839f25d086af736a60e9eeb907d3b93b6e0e5",
    "execution": {
     "iopub.execute_input": "2022-12-17T09:51:32.431509Z",
     "iopub.status.busy": "2022-12-17T09:51:32.431106Z",
     "iopub.status.idle": "2022-12-17T09:51:38.956576Z",
     "shell.execute_reply": "2022-12-17T09:51:38.955326Z"
    },
    "papermill": {
     "duration": 6.534527,
     "end_time": "2022-12-17T09:51:38.958870",
     "exception": false,
     "start_time": "2022-12-17T09:51:32.424343",
     "status": "completed"
    },
    "tags": []
   },
   "outputs": [],
   "source": [
    "import numpy as np \n",
    "import pandas as pd \n",
    "import json\n",
    "import os\n",
    "from sklearn.metrics import accuracy_score\n",
    "from tensorflow.keras.utils import to_categorical\n",
    "from tensorflow.keras.models import Sequential, Model\n",
    "from tensorflow.keras.layers import Input, Dense, Embedding, Activation\n",
    "from tensorflow.keras.optimizers import Adam\n",
    "from tensorflow.keras.preprocessing.text import Tokenizer\n",
    "from tensorflow.keras.preprocessing.sequence import pad_sequences\n",
    "from tensorflow.keras.layers import SimpleRNN"
   ]
  },
  {
   "cell_type": "code",
   "execution_count": 2,
   "id": "b449a3c3",
   "metadata": {
    "execution": {
     "iopub.execute_input": "2022-12-17T09:51:38.968749Z",
     "iopub.status.busy": "2022-12-17T09:51:38.968238Z",
     "iopub.status.idle": "2022-12-17T09:51:38.978780Z",
     "shell.execute_reply": "2022-12-17T09:51:38.977941Z"
    },
    "papermill": {
     "duration": 0.01764,
     "end_time": "2022-12-17T09:51:38.980885",
     "exception": false,
     "start_time": "2022-12-17T09:51:38.963245",
     "status": "completed"
    },
    "tags": []
   },
   "outputs": [],
   "source": [
    "def load_data():\n",
    "    intents = os.listdir('Train')\n",
    "    \n",
    "    intentToIntent_id = {}\n",
    "    intent_idToIntent = {}\n",
    "    intent_id = 0\n",
    "    \n",
    "    for intent in intents:\n",
    "        intentName = intent.replace('.json','')\n",
    "        intentToIntent_id[intentName] = intent_id\n",
    "        intent_idToIntent[intent_id] = intentName\n",
    "        intent_id+=1\n",
    "    \n",
    "    for dire in ('Train','Validate'):\n",
    "        data = list()\n",
    "\n",
    "        for intent in intents:\n",
    "            \n",
    "            file = json.load(open(f'{dire}/{intent}'))\n",
    "            intentName = intent.replace('.json','')\n",
    "            file = file[intentName]\n",
    "\n",
    "            for i in file:\n",
    "                    item = i['data']\n",
    "                    text =\"\"\n",
    "\n",
    "                    for j in item:\n",
    "                        text = text + j['text'].strip()+ \" \"\n",
    "\n",
    "                    data.append((text.strip(),intentName,intentToIntent_id[intentName]))\n",
    "                    \n",
    "        if dire == 'Train':\n",
    "            train_df = pd.DataFrame(data, columns =['value', 'Name','ID']).sample(frac = 1)\n",
    "            train_df.reset_index(drop=True, inplace=True)\n",
    "        else:\n",
    "            val_df = pd.DataFrame(data, columns =['value', 'Name','ID']).sample(frac = 1)\n",
    "            val_df.reset_index(drop=True, inplace=True)\n",
    "            \n",
    "    return train_df, val_df, intentToIntent_id, intent_idToIntent"
   ]
  },
  {
   "cell_type": "code",
   "execution_count": 3,
   "id": "b1f469ea",
   "metadata": {
    "execution": {
     "iopub.execute_input": "2022-12-17T09:51:38.990527Z",
     "iopub.status.busy": "2022-12-17T09:51:38.990172Z",
     "iopub.status.idle": "2022-12-17T09:51:39.239577Z",
     "shell.execute_reply": "2022-12-17T09:51:39.238041Z"
    },
    "papermill": {
     "duration": 0.256691,
     "end_time": "2022-12-17T09:51:39.241831",
     "exception": false,
     "start_time": "2022-12-17T09:51:38.985140",
     "status": "completed"
    },
    "tags": []
   },
   "outputs": [],
   "source": [
    "df , val_df, intents, intentsID = load_data()"
   ]
  },
  {
   "cell_type": "code",
   "execution_count": 4,
   "id": "c9bb001e",
   "metadata": {
    "execution": {
     "iopub.execute_input": "2022-12-17T09:51:39.251632Z",
     "iopub.status.busy": "2022-12-17T09:51:39.251082Z",
     "iopub.status.idle": "2022-12-17T09:51:39.272280Z",
     "shell.execute_reply": "2022-12-17T09:51:39.271191Z"
    },
    "papermill": {
     "duration": 0.028615,
     "end_time": "2022-12-17T09:51:39.274789",
     "exception": false,
     "start_time": "2022-12-17T09:51:39.246174",
     "status": "completed"
    },
    "tags": []
   },
   "outputs": [
    {
     "data": {
      "text/html": [
       "<div>\n",
       "<style scoped>\n",
       "    .dataframe tbody tr th:only-of-type {\n",
       "        vertical-align: middle;\n",
       "    }\n",
       "\n",
       "    .dataframe tbody tr th {\n",
       "        vertical-align: top;\n",
       "    }\n",
       "\n",
       "    .dataframe thead th {\n",
       "        text-align: right;\n",
       "    }\n",
       "</style>\n",
       "<table border=\"1\" class=\"dataframe\">\n",
       "  <thead>\n",
       "    <tr style=\"text-align: right;\">\n",
       "      <th></th>\n",
       "      <th>value</th>\n",
       "      <th>Name</th>\n",
       "      <th>ID</th>\n",
       "    </tr>\n",
       "  </thead>\n",
       "  <tbody>\n",
       "    <tr>\n",
       "      <th>0</th>\n",
       "      <td>I want to give The Canon of Medicine  one out ...</td>\n",
       "      <td>RateBook</td>\n",
       "      <td>4</td>\n",
       "    </tr>\n",
       "    <tr>\n",
       "      <th>1</th>\n",
       "      <td>Add shi xin hui to my  piano chill playlist.</td>\n",
       "      <td>AddToPlaylist</td>\n",
       "      <td>0</td>\n",
       "    </tr>\n",
       "    <tr>\n",
       "      <th>2</th>\n",
       "      <td>Play some Game music.</td>\n",
       "      <td>PlayMusic</td>\n",
       "      <td>3</td>\n",
       "    </tr>\n",
       "    <tr>\n",
       "      <th>3</th>\n",
       "      <td>Play some chanson music</td>\n",
       "      <td>PlayMusic</td>\n",
       "      <td>3</td>\n",
       "    </tr>\n",
       "    <tr>\n",
       "      <th>4</th>\n",
       "      <td>Find the Exile and the Kingdom</td>\n",
       "      <td>SearchCreativeWork</td>\n",
       "      <td>5</td>\n",
       "    </tr>\n",
       "    <tr>\n",
       "      <th>...</th>\n",
       "      <td>...</td>\n",
       "      <td>...</td>\n",
       "      <td>...</td>\n",
       "    </tr>\n",
       "    <tr>\n",
       "      <th>13779</th>\n",
       "      <td>I want to watch TV series  The Practical Pig</td>\n",
       "      <td>SearchCreativeWork</td>\n",
       "      <td>5</td>\n",
       "    </tr>\n",
       "    <tr>\n",
       "      <th>13780</th>\n",
       "      <td>give The God Machine  two of 6  points</td>\n",
       "      <td>RateBook</td>\n",
       "      <td>4</td>\n",
       "    </tr>\n",
       "    <tr>\n",
       "      <th>13781</th>\n",
       "      <td>Show me the work Not a Little Girl Anymore</td>\n",
       "      <td>SearchCreativeWork</td>\n",
       "      <td>5</td>\n",
       "    </tr>\n",
       "    <tr>\n",
       "      <th>13782</th>\n",
       "      <td>give Power of Faerun  two of 6</td>\n",
       "      <td>RateBook</td>\n",
       "      <td>4</td>\n",
       "    </tr>\n",
       "    <tr>\n",
       "      <th>13783</th>\n",
       "      <td>book a Kuwait place at seven am at The Middle ...</td>\n",
       "      <td>BookRestaurant</td>\n",
       "      <td>1</td>\n",
       "    </tr>\n",
       "  </tbody>\n",
       "</table>\n",
       "<p>13784 rows × 3 columns</p>\n",
       "</div>"
      ],
      "text/plain": [
       "                                                   value                Name  \\\n",
       "0      I want to give The Canon of Medicine  one out ...            RateBook   \n",
       "1           Add shi xin hui to my  piano chill playlist.       AddToPlaylist   \n",
       "2                                  Play some Game music.           PlayMusic   \n",
       "3                                Play some chanson music           PlayMusic   \n",
       "4                         Find the Exile and the Kingdom  SearchCreativeWork   \n",
       "...                                                  ...                 ...   \n",
       "13779       I want to watch TV series  The Practical Pig  SearchCreativeWork   \n",
       "13780             give The God Machine  two of 6  points            RateBook   \n",
       "13781         Show me the work Not a Little Girl Anymore  SearchCreativeWork   \n",
       "13782                     give Power of Faerun  two of 6            RateBook   \n",
       "13783  book a Kuwait place at seven am at The Middle ...      BookRestaurant   \n",
       "\n",
       "       ID  \n",
       "0       4  \n",
       "1       0  \n",
       "2       3  \n",
       "3       3  \n",
       "4       5  \n",
       "...    ..  \n",
       "13779   5  \n",
       "13780   4  \n",
       "13781   5  \n",
       "13782   4  \n",
       "13783   1  \n",
       "\n",
       "[13784 rows x 3 columns]"
      ]
     },
     "execution_count": 4,
     "metadata": {},
     "output_type": "execute_result"
    }
   ],
   "source": [
    "df"
   ]
  },
  {
   "cell_type": "code",
   "execution_count": 5,
   "id": "1a1374fa",
   "metadata": {
    "execution": {
     "iopub.execute_input": "2022-12-17T09:51:39.285132Z",
     "iopub.status.busy": "2022-12-17T09:51:39.284836Z",
     "iopub.status.idle": "2022-12-17T09:51:39.296507Z",
     "shell.execute_reply": "2022-12-17T09:51:39.295472Z"
    },
    "papermill": {
     "duration": 0.019553,
     "end_time": "2022-12-17T09:51:39.298806",
     "exception": false,
     "start_time": "2022-12-17T09:51:39.279253",
     "status": "completed"
    },
    "tags": []
   },
   "outputs": [
    {
     "data": {
      "text/html": [
       "<div>\n",
       "<style scoped>\n",
       "    .dataframe tbody tr th:only-of-type {\n",
       "        vertical-align: middle;\n",
       "    }\n",
       "\n",
       "    .dataframe tbody tr th {\n",
       "        vertical-align: top;\n",
       "    }\n",
       "\n",
       "    .dataframe thead th {\n",
       "        text-align: right;\n",
       "    }\n",
       "</style>\n",
       "<table border=\"1\" class=\"dataframe\">\n",
       "  <thead>\n",
       "    <tr style=\"text-align: right;\">\n",
       "      <th></th>\n",
       "      <th>value</th>\n",
       "      <th>Name</th>\n",
       "      <th>ID</th>\n",
       "    </tr>\n",
       "  </thead>\n",
       "  <tbody>\n",
       "    <tr>\n",
       "      <th>0</th>\n",
       "      <td>rate The Lives of John Lennon  five  points</td>\n",
       "      <td>RateBook</td>\n",
       "      <td>4</td>\n",
       "    </tr>\n",
       "    <tr>\n",
       "      <th>1</th>\n",
       "      <td>Please find me the Classified  book .</td>\n",
       "      <td>SearchCreativeWork</td>\n",
       "      <td>5</td>\n",
       "    </tr>\n",
       "    <tr>\n",
       "      <th>2</th>\n",
       "      <td>Add give us rest to my  70s Smash Hits playlist.</td>\n",
       "      <td>AddToPlaylist</td>\n",
       "      <td>0</td>\n",
       "    </tr>\n",
       "    <tr>\n",
       "      <th>3</th>\n",
       "      <td>Play the newest  melody on Last Fm by Eddie Vi...</td>\n",
       "      <td>PlayMusic</td>\n",
       "      <td>3</td>\n",
       "    </tr>\n",
       "    <tr>\n",
       "      <th>4</th>\n",
       "      <td>table for 5 A.m . at Baker's Keyboard Lounge</td>\n",
       "      <td>BookRestaurant</td>\n",
       "      <td>1</td>\n",
       "    </tr>\n",
       "    <tr>\n",
       "      <th>...</th>\n",
       "      <td>...</td>\n",
       "      <td>...</td>\n",
       "      <td>...</td>\n",
       "    </tr>\n",
       "    <tr>\n",
       "      <th>695</th>\n",
       "      <td>I need to know the weather for Jan. the 3rd in...</td>\n",
       "      <td>GetWeather</td>\n",
       "      <td>2</td>\n",
       "    </tr>\n",
       "    <tr>\n",
       "      <th>696</th>\n",
       "      <td>Please play a sound track from the fifties tha...</td>\n",
       "      <td>PlayMusic</td>\n",
       "      <td>3</td>\n",
       "    </tr>\n",
       "    <tr>\n",
       "      <th>697</th>\n",
       "      <td>Tell me the weather forecast for Gibsland</td>\n",
       "      <td>GetWeather</td>\n",
       "      <td>2</td>\n",
       "    </tr>\n",
       "    <tr>\n",
       "      <th>698</th>\n",
       "      <td>What will the weather be nineteen hours from n...</td>\n",
       "      <td>GetWeather</td>\n",
       "      <td>2</td>\n",
       "    </tr>\n",
       "    <tr>\n",
       "      <th>699</th>\n",
       "      <td>Will it be warmer in the District Of Columbia ...</td>\n",
       "      <td>GetWeather</td>\n",
       "      <td>2</td>\n",
       "    </tr>\n",
       "  </tbody>\n",
       "</table>\n",
       "<p>700 rows × 3 columns</p>\n",
       "</div>"
      ],
      "text/plain": [
       "                                                 value                Name  ID\n",
       "0          rate The Lives of John Lennon  five  points            RateBook   4\n",
       "1                Please find me the Classified  book .  SearchCreativeWork   5\n",
       "2     Add give us rest to my  70s Smash Hits playlist.       AddToPlaylist   0\n",
       "3    Play the newest  melody on Last Fm by Eddie Vi...           PlayMusic   3\n",
       "4         table for 5 A.m . at Baker's Keyboard Lounge      BookRestaurant   1\n",
       "..                                                 ...                 ...  ..\n",
       "695  I need to know the weather for Jan. the 3rd in...          GetWeather   2\n",
       "696  Please play a sound track from the fifties tha...           PlayMusic   3\n",
       "697          Tell me the weather forecast for Gibsland          GetWeather   2\n",
       "698  What will the weather be nineteen hours from n...          GetWeather   2\n",
       "699  Will it be warmer in the District Of Columbia ...          GetWeather   2\n",
       "\n",
       "[700 rows x 3 columns]"
      ]
     },
     "execution_count": 5,
     "metadata": {},
     "output_type": "execute_result"
    }
   ],
   "source": [
    "val_df"
   ]
  },
  {
   "cell_type": "code",
   "execution_count": 6,
   "id": "10f5bd2a",
   "metadata": {
    "execution": {
     "iopub.execute_input": "2022-12-17T09:51:39.309716Z",
     "iopub.status.busy": "2022-12-17T09:51:39.309414Z",
     "iopub.status.idle": "2022-12-17T09:51:39.316647Z",
     "shell.execute_reply": "2022-12-17T09:51:39.315152Z"
    },
    "papermill": {
     "duration": 0.014856,
     "end_time": "2022-12-17T09:51:39.318556",
     "exception": false,
     "start_time": "2022-12-17T09:51:39.303700",
     "status": "completed"
    },
    "tags": []
   },
   "outputs": [
    {
     "data": {
      "text/plain": [
       "{'AddToPlaylist': 0,\n",
       " 'BookRestaurant': 1,\n",
       " 'GetWeather': 2,\n",
       " 'PlayMusic': 3,\n",
       " 'RateBook': 4,\n",
       " 'SearchCreativeWork': 5,\n",
       " 'SearchScreeningEvent': 6}"
      ]
     },
     "execution_count": 6,
     "metadata": {},
     "output_type": "execute_result"
    }
   ],
   "source": [
    "intents"
   ]
  },
  {
   "cell_type": "code",
   "execution_count": 7,
   "id": "f541a700",
   "metadata": {
    "execution": {
     "iopub.execute_input": "2022-12-17T09:51:39.329512Z",
     "iopub.status.busy": "2022-12-17T09:51:39.329139Z",
     "iopub.status.idle": "2022-12-17T09:51:39.334685Z",
     "shell.execute_reply": "2022-12-17T09:51:39.333851Z"
    },
    "papermill": {
     "duration": 0.012989,
     "end_time": "2022-12-17T09:51:39.336326",
     "exception": false,
     "start_time": "2022-12-17T09:51:39.323337",
     "status": "completed"
    },
    "tags": []
   },
   "outputs": [
    {
     "data": {
      "text/plain": [
       "{0: 'AddToPlaylist',\n",
       " 1: 'BookRestaurant',\n",
       " 2: 'GetWeather',\n",
       " 3: 'PlayMusic',\n",
       " 4: 'RateBook',\n",
       " 5: 'SearchCreativeWork',\n",
       " 6: 'SearchScreeningEvent'}"
      ]
     },
     "execution_count": 7,
     "metadata": {},
     "output_type": "execute_result"
    }
   ],
   "source": [
    "intentsID"
   ]
  },
  {
   "cell_type": "code",
   "execution_count": 8,
   "id": "835dc903",
   "metadata": {
    "execution": {
     "iopub.execute_input": "2022-12-17T09:51:39.346945Z",
     "iopub.status.busy": "2022-12-17T09:51:39.346628Z",
     "iopub.status.idle": "2022-12-17T09:51:39.354013Z",
     "shell.execute_reply": "2022-12-17T09:51:39.353123Z"
    },
    "papermill": {
     "duration": 0.014595,
     "end_time": "2022-12-17T09:51:39.355620",
     "exception": false,
     "start_time": "2022-12-17T09:51:39.341025",
     "status": "completed"
    },
    "tags": []
   },
   "outputs": [],
   "source": [
    "class Preprocessing():\n",
    "    def __init__(self):\n",
    "        self.x_train = df['value'].tolist()\n",
    "        self.y_train = df['ID'].tolist()\n",
    "        self.x_valid = val_df['value'].tolist()\n",
    "        self.y_valid = val_df['ID'].tolist()\n",
    "        self.tokenizer = Tokenizer(num_words=None)\n",
    "\n",
    "    def createData(self):\n",
    "        self.tokenizer.fit_on_texts(self.x_train + self.x_valid)\n",
    "        self.x_train = self.tokenizer.texts_to_sequences(self.x_train)\n",
    "        self.x_valid = self.tokenizer.texts_to_sequences(self.x_valid)\n",
    "\n",
    "        #zero pad the sequences\n",
    "        self.max_len = 50\n",
    "        self.x_train = pad_sequences(self.x_train, maxlen=self.max_len)\n",
    "        self.x_valid = pad_sequences(self.x_valid, maxlen=self.max_len)\n",
    "        self.y_train = to_categorical(self.y_train)\n",
    "        self.y_valid = to_categorical(self.y_valid)\n",
    "        self.word_index = self.tokenizer.word_index"
   ]
  },
  {
   "cell_type": "code",
   "execution_count": 9,
   "id": "3f56b233",
   "metadata": {
    "execution": {
     "iopub.execute_input": "2022-12-17T09:51:39.366118Z",
     "iopub.status.busy": "2022-12-17T09:51:39.365816Z",
     "iopub.status.idle": "2022-12-17T09:51:39.779592Z",
     "shell.execute_reply": "2022-12-17T09:51:39.778675Z"
    },
    "papermill": {
     "duration": 0.421404,
     "end_time": "2022-12-17T09:51:39.781740",
     "exception": false,
     "start_time": "2022-12-17T09:51:39.360336",
     "status": "completed"
    },
    "tags": []
   },
   "outputs": [],
   "source": [
    "preprocess_obj = Preprocessing()\n",
    "preprocess_obj.createData()"
   ]
  },
  {
   "cell_type": "code",
   "execution_count": 10,
   "id": "cf74794f",
   "metadata": {
    "execution": {
     "iopub.execute_input": "2022-12-17T09:51:39.792535Z",
     "iopub.status.busy": "2022-12-17T09:51:39.792170Z",
     "iopub.status.idle": "2022-12-17T09:51:39.798751Z",
     "shell.execute_reply": "2022-12-17T09:51:39.796817Z"
    },
    "papermill": {
     "duration": 0.014005,
     "end_time": "2022-12-17T09:51:39.800495",
     "exception": false,
     "start_time": "2022-12-17T09:51:39.786490",
     "status": "completed"
    },
    "tags": []
   },
   "outputs": [
    {
     "data": {
      "text/plain": [
       "(13784, 7)"
      ]
     },
     "execution_count": 10,
     "metadata": {},
     "output_type": "execute_result"
    }
   ],
   "source": [
    "preprocess_obj.y_train.shape"
   ]
  },
  {
   "cell_type": "code",
   "execution_count": 11,
   "id": "78fa7945",
   "metadata": {
    "execution": {
     "iopub.execute_input": "2022-12-17T09:51:39.812571Z",
     "iopub.status.busy": "2022-12-17T09:51:39.812192Z",
     "iopub.status.idle": "2022-12-17T09:51:39.817879Z",
     "shell.execute_reply": "2022-12-17T09:51:39.817057Z"
    },
    "papermill": {
     "duration": 0.01326,
     "end_time": "2022-12-17T09:51:39.819441",
     "exception": false,
     "start_time": "2022-12-17T09:51:39.806181",
     "status": "completed"
    },
    "tags": []
   },
   "outputs": [
    {
     "data": {
      "text/plain": [
       "(700, 7)"
      ]
     },
     "execution_count": 11,
     "metadata": {},
     "output_type": "execute_result"
    }
   ],
   "source": [
    "preprocess_obj.y_valid.shape"
   ]
  },
  {
   "cell_type": "code",
   "execution_count": 12,
   "id": "4215ba0a",
   "metadata": {
    "execution": {
     "iopub.execute_input": "2022-12-17T09:51:39.830702Z",
     "iopub.status.busy": "2022-12-17T09:51:39.830348Z",
     "iopub.status.idle": "2022-12-17T09:51:39.838503Z",
     "shell.execute_reply": "2022-12-17T09:51:39.837772Z"
    },
    "papermill": {
     "duration": 0.015627,
     "end_time": "2022-12-17T09:51:39.839865",
     "exception": false,
     "start_time": "2022-12-17T09:51:39.824238",
     "status": "completed"
    },
    "tags": []
   },
   "outputs": [],
   "source": [
    "class DesignModel():\n",
    "    def __init__(self):\n",
    "        self.model = None\n",
    "        self.x_train = preprocess_obj.x_train\n",
    "        self.y_train = preprocess_obj.y_train\n",
    "        self.x_valid = preprocess_obj.x_valid\n",
    "        self.y_valid = preprocess_obj.y_valid\n",
    "        \n",
    "    def simple_rnn(self):\n",
    "        self.model = Sequential()\n",
    "        self.model.add(Embedding(len(preprocess_obj.word_index) + 1,100,input_length=preprocess_obj.max_len))\n",
    "        self.model.add(SimpleRNN(100))\n",
    "        self.model.add(Dense(len(intents), activation='sigmoid'))\n",
    "        self.model.compile(loss='categorical_crossentropy', optimizer='adam', metrics=['accuracy'])\n",
    "        \n",
    "        \n",
    "    def model_train(self,batch_size,num_epoch):\n",
    "        print(\"Fitting to model\")\n",
    "        self.model.fit(self.x_train, self.y_train, batch_size=batch_size, epochs=num_epoch, validation_data=[self.x_valid, self.y_valid])\n",
    "        print(\"Model Training complete.\")"
   ]
  },
  {
   "cell_type": "code",
   "execution_count": 13,
   "id": "b1cadc77",
   "metadata": {
    "execution": {
     "iopub.execute_input": "2022-12-17T09:51:39.850933Z",
     "iopub.status.busy": "2022-12-17T09:51:39.850612Z",
     "iopub.status.idle": "2022-12-17T09:52:27.791356Z",
     "shell.execute_reply": "2022-12-17T09:52:27.789702Z"
    },
    "papermill": {
     "duration": 47.948523,
     "end_time": "2022-12-17T09:52:27.793346",
     "exception": false,
     "start_time": "2022-12-17T09:51:39.844823",
     "status": "completed"
    },
    "scrolled": false,
    "tags": []
   },
   "outputs": [
    {
     "name": "stdout",
     "output_type": "stream",
     "text": [
      "Fitting to model\n",
      "Epoch 1/5\n",
      "216/216 [==============================] - 12s 40ms/step - loss: 0.5983 - accuracy: 0.8424 - val_loss: 0.1278 - val_accuracy: 0.9643\n",
      "Epoch 2/5\n",
      "216/216 [==============================] - 8s 35ms/step - loss: 0.0670 - accuracy: 0.9844 - val_loss: 0.0711 - val_accuracy: 0.9814\n",
      "Epoch 3/5\n",
      "216/216 [==============================] - 8s 36ms/step - loss: 0.0204 - accuracy: 0.9956 - val_loss: 0.0707 - val_accuracy: 0.9729\n",
      "Epoch 4/5\n",
      "216/216 [==============================] - 7s 33ms/step - loss: 0.0097 - accuracy: 0.9980 - val_loss: 0.0498 - val_accuracy: 0.9814\n",
      "Epoch 5/5\n",
      "216/216 [==============================] - 8s 36ms/step - loss: 0.0038 - accuracy: 0.9998 - val_loss: 0.0459 - val_accuracy: 0.9829\n",
      "Model Training complete.\n"
     ]
    }
   ],
   "source": [
    "model_obj = DesignModel()\n",
    "model_obj.simple_rnn()\n",
    "model_obj.model_train(64,5)"
   ]
  },
  {
   "cell_type": "code",
   "execution_count": 14,
   "id": "a6a8b066",
   "metadata": {
    "execution": {
     "iopub.execute_input": "2022-12-17T09:52:27.861589Z",
     "iopub.status.busy": "2022-12-17T09:52:27.860514Z",
     "iopub.status.idle": "2022-12-17T09:52:27.866010Z",
     "shell.execute_reply": "2022-12-17T09:52:27.864962Z"
    },
    "papermill": {
     "duration": 0.041076,
     "end_time": "2022-12-17T09:52:27.867616",
     "exception": false,
     "start_time": "2022-12-17T09:52:27.826540",
     "status": "completed"
    },
    "tags": []
   },
   "outputs": [],
   "source": [
    "class Evaluation():\n",
    "    def get_accuracy(self,actuals, predictions):\n",
    "        acc = accuracy_score(actuals, predictions)\n",
    "        return acc"
   ]
  },
  {
   "cell_type": "code",
   "execution_count": 15,
   "id": "3191131c",
   "metadata": {
    "execution": {
     "iopub.execute_input": "2022-12-17T09:52:27.934807Z",
     "iopub.status.busy": "2022-12-17T09:52:27.934517Z",
     "iopub.status.idle": "2022-12-17T09:52:27.941944Z",
     "shell.execute_reply": "2022-12-17T09:52:27.940784Z"
    },
    "papermill": {
     "duration": 0.043151,
     "end_time": "2022-12-17T09:52:27.943792",
     "exception": false,
     "start_time": "2022-12-17T09:52:27.900641",
     "status": "completed"
    },
    "tags": []
   },
   "outputs": [],
   "source": [
    "class Prediction():\n",
    "    def __init__(self):\n",
    "        self.model = model_obj.model\n",
    "        self.tokenizer = preprocess_obj.tokenizer\n",
    "        self.max_len = preprocess_obj.max_len\n",
    "        \n",
    "    def predict_validation(self):\n",
    "        self.xtest = val_df['value'].tolist()\n",
    "        self.ytest = val_df['ID'].tolist()\n",
    "        self.xtest = self.tokenizer.texts_to_sequences(self.xtest)\n",
    "        self.xtest = pad_sequences(self.xtest, maxlen=self.max_len)\n",
    "        self.ypred = self.model.predict(self.xtest)\n",
    "        self.ypred = [np.argmax(item) for item in self.ypred]\n",
    "    \n",
    "    def predict(self,query):\n",
    "        query_seq = self.tokenizer.texts_to_sequences([query])\n",
    "        query_pad = pad_sequences(query_seq, maxlen=self.max_len)\n",
    "        pred = self.model.predict(query_pad)\n",
    "        pred = np.argmax(pred)\n",
    "        result = intentsID[pred]\n",
    "        return result"
   ]
  },
  {
   "cell_type": "code",
   "execution_count": 16,
   "id": "3585461f",
   "metadata": {
    "execution": {
     "iopub.execute_input": "2022-12-17T09:52:28.012696Z",
     "iopub.status.busy": "2022-12-17T09:52:28.011877Z",
     "iopub.status.idle": "2022-12-17T09:52:28.468056Z",
     "shell.execute_reply": "2022-12-17T09:52:28.467430Z"
    },
    "papermill": {
     "duration": 0.492539,
     "end_time": "2022-12-17T09:52:28.469961",
     "exception": false,
     "start_time": "2022-12-17T09:52:27.977422",
     "status": "completed"
    },
    "tags": []
   },
   "outputs": [
    {
     "name": "stdout",
     "output_type": "stream",
     "text": [
      "22/22 [==============================] - 0s 4ms/step\n"
     ]
    }
   ],
   "source": [
    "pred_obj = Prediction()\n",
    "pred_obj.predict_validation()"
   ]
  },
  {
   "cell_type": "code",
   "execution_count": 17,
   "id": "02011e95",
   "metadata": {
    "execution": {
     "iopub.execute_input": "2022-12-17T09:52:28.539911Z",
     "iopub.status.busy": "2022-12-17T09:52:28.539389Z",
     "iopub.status.idle": "2022-12-17T09:52:28.764047Z",
     "shell.execute_reply": "2022-12-17T09:52:28.762943Z"
    },
    "papermill": {
     "duration": 0.261956,
     "end_time": "2022-12-17T09:52:28.765937",
     "exception": false,
     "start_time": "2022-12-17T09:52:28.503981",
     "status": "completed"
    },
    "tags": []
   },
   "outputs": [
    {
     "name": "stdout",
     "output_type": "stream",
     "text": [
      "1/1 [==============================] - 0s 23ms/step\n",
      "Intent: RateBook\tQuery: rate The Gift: Imagination and the Erotic Life of Property five stars\n",
      "1/1 [==============================] - 0s 23ms/step\n",
      "Intent: BookRestaurant\tQuery: table for Breadline Cafe in Minnesota next friday\n",
      "1/1 [==============================] - 0s 25ms/step\n",
      "Intent: GetWeather\tQuery: Will it be hot at 13:19 in De Funiak Springs Serbia and Montenegro ?\n",
      "1/1 [==============================] - 0s 22ms/step\n",
      "Intent: PlayMusic\tQuery: Play some sixties songs on Google Music\n",
      "1/1 [==============================] - 0s 23ms/step\n",
      "Intent: RateBook\tQuery: rate this textbook four out of 6\n"
     ]
    }
   ],
   "source": [
    "querylist = [\n",
    "    'rate The Gift: Imagination and the Erotic Life of Property five stars',\n",
    "     'table for Breadline Cafe in Minnesota next friday',\n",
    "     'Will it be hot at 13:19 in De Funiak Springs Serbia and Montenegro ?',\n",
    "     'Play some sixties songs on Google Music',\n",
    "     'rate this textbook four out of 6']\n",
    "for query in querylist:\n",
    "    result = pred_obj.predict(query)\n",
    "    print(\"Intent: \"+str(result)+\"\\tQuery: \"+str(query))"
   ]
  },
  {
   "cell_type": "code",
   "execution_count": 18,
   "id": "f380f1e2",
   "metadata": {
    "execution": {
     "iopub.execute_input": "2022-12-17T09:52:28.834109Z",
     "iopub.status.busy": "2022-12-17T09:52:28.833832Z",
     "iopub.status.idle": "2022-12-17T09:52:28.839983Z",
     "shell.execute_reply": "2022-12-17T09:52:28.838784Z"
    },
    "papermill": {
     "duration": 0.042322,
     "end_time": "2022-12-17T09:52:28.841651",
     "exception": false,
     "start_time": "2022-12-17T09:52:28.799329",
     "status": "completed"
    },
    "tags": []
   },
   "outputs": [
    {
     "name": "stdout",
     "output_type": "stream",
     "text": [
      "Acc: 98.29%\n"
     ]
    }
   ],
   "source": [
    "eval_obj = Evaluation()\n",
    "acc = eval_obj.get_accuracy(pred_obj.ytest,pred_obj.ypred)\n",
    "print(\"Acc: {:.2%}\".format(acc))"
   ]
  }
 ],
 "metadata": {
  "kernelspec": {
   "display_name": "Python 3",
   "language": "python",
   "name": "python3"
  },
  "language_info": {
   "codemirror_mode": {
    "name": "ipython",
    "version": 3
   },
   "file_extension": ".py",
   "mimetype": "text/x-python",
   "name": "python",
   "nbconvert_exporter": "python",
   "pygments_lexer": "ipython3",
   "version": "3.8.8"
  },
  "papermill": {
   "default_parameters": {},
   "duration": 65.959738,
   "end_time": "2022-12-17T09:52:31.694531",
   "environment_variables": {},
   "exception": null,
   "input_path": "__notebook__.ipynb",
   "output_path": "__notebook__.ipynb",
   "parameters": {},
   "start_time": "2022-12-17T09:51:25.734793",
   "version": "2.3.4"
  }
 },
 "nbformat": 4,
 "nbformat_minor": 5
}
